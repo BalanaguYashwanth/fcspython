{
 "cells": [
  {
   "cell_type": "markdown",
   "metadata": {},
   "source": [
    "# TIC TAC TOE"
   ]
  },
  {
   "cell_type": "code",
   "execution_count": 117,
   "metadata": {},
   "outputs": [
    {
     "name": "stdout",
     "output_type": "stream",
     "text": [
      "-----\n",
      "|   |\n",
      "-----\n",
      "|   |\n",
      "-----\n",
      "|   |\n",
      "-----\n",
      "|   |\n"
     ]
    }
   ],
   "source": [
    "def display_board():\n",
    "    print(\"-----\")\n",
    "    print(\"|   |\")\n",
    "    print(\"-----\")\n",
    "    print(\"|   |\")\n",
    "    print(\"-----\")\n",
    "    print(\"|   |\")\n",
    "    print(\"-----\")\n",
    "    print(\"|   |\")\n",
    "    \n",
    "display_board()"
   ]
  },
  {
   "cell_type": "code",
   "execution_count": 118,
   "metadata": {},
   "outputs": [
    {
     "name": "stdout",
     "output_type": "stream",
     "text": [
      "-----\n",
      "|   |\n",
      "-----\n",
      "|   |\n",
      "-----\n",
      "|   |\n",
      "-----\n",
      "|   |\n"
     ]
    }
   ],
   "source": [
    "display_board()"
   ]
  },
  {
   "cell_type": "code",
   "execution_count": 119,
   "metadata": {},
   "outputs": [],
   "source": [
    "board=['O','X','O','X','O','X','O','X','O','X']"
   ]
  },
  {
   "cell_type": "code",
   "execution_count": 120,
   "metadata": {},
   "outputs": [],
   "source": [
    "from IPython.display import clear_output\n",
    "\n",
    "def display_board(board):\n",
    "    clear_output()\n",
    "    print('   |   |')\n",
    "    print(\"------------\")  \n",
    "    print(' '+ board[7] +' | '+ board[8] +' | '+board[9])\n",
    "    print(\"------------\")  \n",
    "    print(' '+ board[4] +' | '+ board[5] +' | '+board[6])\n",
    "    print(\"------------\")\n",
    "    print(' '+ board[1] +' | '+ board[2] +' | '+board[3])\n",
    "    print(\"------------\")\n",
    "    print('   |   |')"
   ]
  },
  {
   "cell_type": "code",
   "execution_count": 121,
   "metadata": {},
   "outputs": [
    {
     "name": "stdout",
     "output_type": "stream",
     "text": [
      "   |   |\n",
      "------------\n",
      " X | O | X\n",
      "------------\n",
      " O | X | O\n",
      "------------\n",
      " X | O | X\n",
      "------------\n",
      "   |   |\n"
     ]
    }
   ],
   "source": [
    "display_board(board)"
   ]
  },
  {
   "cell_type": "code",
   "execution_count": 122,
   "metadata": {},
   "outputs": [],
   "source": [
    "board=[' ']*10"
   ]
  },
  {
   "cell_type": "code",
   "execution_count": 123,
   "metadata": {},
   "outputs": [
    {
     "name": "stdout",
     "output_type": "stream",
     "text": [
      "   |   |\n",
      "------------\n",
      "   |   |  \n",
      "------------\n",
      "   |   |  \n",
      "------------\n",
      "   |   |  \n",
      "------------\n",
      "   |   |\n"
     ]
    }
   ],
   "source": [
    "display_board(board)"
   ]
  },
  {
   "cell_type": "markdown",
   "metadata": {},
   "source": [
    "# Func. to assign a marker to the player"
   ]
  },
  {
   "cell_type": "code",
   "execution_count": 124,
   "metadata": {},
   "outputs": [],
   "source": [
    "\n",
    "# def fun(arg):\n",
    "#     if arg=='X':\n",
    "#         print('player1: x')\n",
    "#         print('player2: o')\n",
    "#     else:\n",
    "#          print('player1: o')\n",
    "#          print('player2: x')\n",
    "        \n",
    "# print('choose the x or o')       \n",
    "# fun(input())"
   ]
  },
  {
   "cell_type": "code",
   "execution_count": 125,
   "metadata": {},
   "outputs": [],
   "source": [
    "def player_input():\n",
    "    marker =' ';\n",
    "    \n",
    "    while not(marker == 'X' or marker == 'O'):\n",
    "        marker=input('player one : please enter your marker X or O :').upper()\n",
    "        \n",
    "        if marker == 'X':\n",
    "            return ('X','O')\n",
    "        else:\n",
    "            return ('O','X')"
   ]
  },
  {
   "cell_type": "code",
   "execution_count": 126,
   "metadata": {},
   "outputs": [
    {
     "name": "stdout",
     "output_type": "stream",
     "text": [
      "player one : please enter your marker X or O :x\n"
     ]
    },
    {
     "data": {
      "text/plain": [
       "('X', 'O')"
      ]
     },
     "execution_count": 126,
     "metadata": {},
     "output_type": "execute_result"
    }
   ],
   "source": [
    "player_input()"
   ]
  },
  {
   "cell_type": "code",
   "execution_count": 127,
   "metadata": {},
   "outputs": [],
   "source": [
    "\n",
    "# def fun(arg):\n",
    "#     if arg=='X':\n",
    "        \n",
    "#         print('player1: x')\n",
    "#         print('player2: o')\n",
    "#         print('enter your position')\n",
    "#         print('your position is '+input())  \n",
    "#     else:\n",
    "#          print('player1: o')\n",
    "#          print('player2: x')\n",
    "        \n",
    "\n",
    "# print('choose the x or o')       \n",
    "# fun(input())"
   ]
  },
  {
   "cell_type": "code",
   "execution_count": 128,
   "metadata": {},
   "outputs": [],
   "source": [
    "test_board=['O','X','O','X','O','X','O','X','O','X']"
   ]
  },
  {
   "cell_type": "code",
   "execution_count": 129,
   "metadata": {},
   "outputs": [],
   "source": [
    "def place_marker(board, marker, position):\n",
    "    board[position] = marker;"
   ]
  },
  {
   "cell_type": "code",
   "execution_count": 130,
   "metadata": {},
   "outputs": [],
   "source": [
    "place_marker(test_board,\"X\",5)"
   ]
  },
  {
   "cell_type": "code",
   "execution_count": 131,
   "metadata": {},
   "outputs": [
    {
     "name": "stdout",
     "output_type": "stream",
     "text": [
      "   |   |\n",
      "------------\n",
      " X | O | X\n",
      "------------\n",
      " O | X | O\n",
      "------------\n",
      " X | O | X\n",
      "------------\n",
      "   |   |\n"
     ]
    }
   ],
   "source": [
    "display_board(test_board)"
   ]
  },
  {
   "cell_type": "code",
   "execution_count": 132,
   "metadata": {},
   "outputs": [],
   "source": [
    "def win_check(board,mark):\n",
    "    return ((board[7]==mark and board[8]==mark and board[9]==mark)or\n",
    "            (board[4]==mark and board[5]==mark and board[6]==mark)or\n",
    "            (board[1]==mark and board[2]==mark and board[3]==mark)or\n",
    "            (board[1]==mark and board[4]==mark and board[7]==mark)or\n",
    "            (board[3]==mark and board[6]==mark and board[9]==mark)or\n",
    "            (board[2]==mark and board[5]==mark and board[8]==mark)or\n",
    "            (board[1]==mark and board[5]==mark and board[9]==mark)or\n",
    "            (board[3]==mark and board[5]==mark and board[7]==mark))"
   ]
  },
  {
   "cell_type": "markdown",
   "metadata": {},
   "source": [
    "win_check(test_board,'O')"
   ]
  },
  {
   "cell_type": "code",
   "execution_count": 133,
   "metadata": {},
   "outputs": [
    {
     "data": {
      "text/plain": [
       "False"
      ]
     },
     "execution_count": 133,
     "metadata": {},
     "output_type": "execute_result"
    }
   ],
   "source": [
    "win_check(test_board,'O')"
   ]
  },
  {
   "cell_type": "code",
   "execution_count": 134,
   "metadata": {},
   "outputs": [
    {
     "data": {
      "text/plain": [
       "True"
      ]
     },
     "execution_count": 134,
     "metadata": {},
     "output_type": "execute_result"
    }
   ],
   "source": [
    "win_check(test_board,'X')"
   ]
  },
  {
   "cell_type": "markdown",
   "metadata": {},
   "source": [
    "# Assign First Player Randomly"
   ]
  },
  {
   "cell_type": "code",
   "execution_count": 135,
   "metadata": {},
   "outputs": [],
   "source": [
    "import random\n",
    "\n",
    "def choose_first():\n",
    "    if random.randint(1,2) == 2:\n",
    "        return 'Player 2'\n",
    "    else:\n",
    "        return 'player 1'"
   ]
  },
  {
   "cell_type": "code",
   "execution_count": 136,
   "metadata": {},
   "outputs": [
    {
     "data": {
      "text/plain": [
       "'Player 2'"
      ]
     },
     "execution_count": 136,
     "metadata": {},
     "output_type": "execute_result"
    }
   ],
   "source": [
    "choose_first()"
   ]
  },
  {
   "cell_type": "code",
   "execution_count": 137,
   "metadata": {},
   "outputs": [],
   "source": [
    "def space_check(board,position):\n",
    "    return board[position]==\" \"\n",
    "    "
   ]
  },
  {
   "cell_type": "code",
   "execution_count": 138,
   "metadata": {},
   "outputs": [
    {
     "data": {
      "text/plain": [
       "True"
      ]
     },
     "execution_count": 138,
     "metadata": {},
     "output_type": "execute_result"
    }
   ],
   "source": [
    "space_check(board,4)"
   ]
  },
  {
   "cell_type": "code",
   "execution_count": 139,
   "metadata": {},
   "outputs": [
    {
     "data": {
      "text/plain": [
       "True"
      ]
     },
     "execution_count": 139,
     "metadata": {},
     "output_type": "execute_result"
    }
   ],
   "source": [
    "space_check(board,7)\n"
   ]
  },
  {
   "cell_type": "code",
   "execution_count": 140,
   "metadata": {},
   "outputs": [],
   "source": [
    "def full_board_check(board):\n",
    "    for i in range(1,10):\n",
    "        if(space_check(board,i)):\n",
    "            return False\n",
    "    return True"
   ]
  },
  {
   "cell_type": "code",
   "execution_count": 141,
   "metadata": {},
   "outputs": [],
   "source": [
    "# def space_check(board,position):\n",
    "#     if board[position]==\" \":\n",
    "#         return True\n",
    "#     else:\n",
    "#         return False"
   ]
  },
  {
   "cell_type": "code",
   "execution_count": 142,
   "metadata": {},
   "outputs": [
    {
     "data": {
      "text/plain": [
       "False"
      ]
     },
     "execution_count": 142,
     "metadata": {},
     "output_type": "execute_result"
    }
   ],
   "source": [
    "full_board_check(board)"
   ]
  },
  {
   "cell_type": "code",
   "execution_count": 143,
   "metadata": {},
   "outputs": [
    {
     "data": {
      "text/plain": [
       "True"
      ]
     },
     "execution_count": 143,
     "metadata": {},
     "output_type": "execute_result"
    }
   ],
   "source": [
    "full_board_check(test_board)"
   ]
  },
  {
   "cell_type": "code",
   "execution_count": 144,
   "metadata": {},
   "outputs": [],
   "source": [
    "# space_check(board,3)"
   ]
  },
  {
   "cell_type": "code",
   "execution_count": 145,
   "metadata": {},
   "outputs": [],
   "source": [
    "def full_board_check1(board):\n",
    "    return not ' ' in board"
   ]
  },
  {
   "cell_type": "code",
   "execution_count": 146,
   "metadata": {},
   "outputs": [
    {
     "data": {
      "text/plain": [
       "False"
      ]
     },
     "execution_count": 146,
     "metadata": {},
     "output_type": "execute_result"
    }
   ],
   "source": [
    "full_board_check1(board)"
   ]
  },
  {
   "cell_type": "code",
   "execution_count": 147,
   "metadata": {},
   "outputs": [
    {
     "data": {
      "text/plain": [
       "True"
      ]
     },
     "execution_count": 147,
     "metadata": {},
     "output_type": "execute_result"
    }
   ],
   "source": [
    "full_board_check1(test_board)"
   ]
  },
  {
   "cell_type": "code",
   "execution_count": 148,
   "metadata": {},
   "outputs": [],
   "source": [
    "\n",
    "def next_players_choice(board):\n",
    "    position = 0\n",
    "    while position not in [1,2,3,4,5,6,7,8,9] or not space_check(board,position):\n",
    "        position = int(input(\"Enter the position(1-9) :\"))\n",
    "    return position\n"
   ]
  },
  {
   "cell_type": "code",
   "execution_count": 149,
   "metadata": {},
   "outputs": [
    {
     "name": "stdout",
     "output_type": "stream",
     "text": [
      "Enter the position(1-9) :1\n"
     ]
    },
    {
     "data": {
      "text/plain": [
       "1"
      ]
     },
     "execution_count": 149,
     "metadata": {},
     "output_type": "execute_result"
    }
   ],
   "source": [
    "next_players_choice(board)"
   ]
  },
  {
   "cell_type": "code",
   "execution_count": 150,
   "metadata": {},
   "outputs": [],
   "source": [
    "def playagain():\n",
    "    return input(\"Want to play again,(yes or no): \").lower().startswith('y')"
   ]
  },
  {
   "cell_type": "code",
   "execution_count": 151,
   "metadata": {},
   "outputs": [
    {
     "name": "stdout",
     "output_type": "stream",
     "text": [
      "Want to play again,(yes or no): yes\n"
     ]
    },
    {
     "data": {
      "text/plain": [
       "True"
      ]
     },
     "execution_count": 151,
     "metadata": {},
     "output_type": "execute_result"
    }
   ],
   "source": [
    "playagain()"
   ]
  },
  {
   "cell_type": "markdown",
   "metadata": {},
   "source": [
    "# Final Assembly "
   ]
  },
  {
   "cell_type": "code",
   "execution_count": 152,
   "metadata": {},
   "outputs": [
    {
     "name": "stdout",
     "output_type": "stream",
     "text": [
      "   |   |\n",
      "------------\n",
      "   |   | X\n",
      "------------\n",
      "   | X |  \n",
      "------------\n",
      " X |   |  \n",
      "------------\n",
      "   |   |\n",
      "congratulations! You have won the game!\n",
      "Want to play again,(yes or no): \n"
     ]
    }
   ],
   "source": [
    "print(\"welcome to yashwnth Tic Toc Toe\")\n",
    "\n",
    "while True:\n",
    "    newBoard = [' ']*10\n",
    "    player1_marker,player2_marker=player_input()\n",
    "    turn=choose_first()\n",
    "    print(turn+'will go First in yashwanth Tic Toc Toe')\n",
    "    \n",
    "    play_game=input('Are you ready ? Enter Yes or No')\n",
    "    \n",
    "    if play_game.lower()[0]=='y':\n",
    "        game_on=True\n",
    "    else:\n",
    "        game_on=False\n",
    "    while game_on:\n",
    "        if turn =='player 1':\n",
    "            display_board(newBoard)\n",
    "            position=next_players_choice(newBoard)\n",
    "            place_marker(newBoard,player1_marker,position)\n",
    "            \n",
    "            if win_check(newBoard,player1_marker):\n",
    "                display_board(newBoard)\n",
    "                \n",
    "                print('congratulations! You have won the game!')\n",
    "                game_on=False;\n",
    "            else:\n",
    "                    if full_board_check(newBoard):\n",
    "                        display_board(newboard)\n",
    "                        print(\"game draws!\")\n",
    "                        break\n",
    "                    else:\n",
    "                        turn =='Player 2'\n",
    "                \n",
    "        else:\n",
    "                    display_board(newBoard)\n",
    "                    postion=next_players_choice(newBoard)\n",
    "                    place_marker(newBoard,player2_marker,postion)\n",
    "                    \n",
    "                    if win_check(newBoard,player2_marker):\n",
    "                        display_board(newBoard)\n",
    "                        print('Player 2 won! ')\n",
    "                        game_on=False\n",
    "                    else:\n",
    "                        if full_board_check(newBoard):\n",
    "                            display_board(newBoard)\n",
    "                            print(\"Its is a Draw \")\n",
    "                            break\n",
    "                        else:\n",
    "                                turn=\"Player 1\"\n",
    "   \n",
    "    if not playagain():\n",
    "        break\n",
    "                    \n",
    "                    \n",
    "        \n",
    "                "
   ]
  },
  {
   "cell_type": "code",
   "execution_count": null,
   "metadata": {},
   "outputs": [],
   "source": []
  },
  {
   "cell_type": "code",
   "execution_count": null,
   "metadata": {},
   "outputs": [],
   "source": []
  },
  {
   "cell_type": "code",
   "execution_count": null,
   "metadata": {},
   "outputs": [],
   "source": []
  }
 ],
 "metadata": {
  "kernelspec": {
   "display_name": "Python 3",
   "language": "python",
   "name": "python3"
  },
  "language_info": {
   "codemirror_mode": {
    "name": "ipython",
    "version": 3
   },
   "file_extension": ".py",
   "mimetype": "text/x-python",
   "name": "python",
   "nbconvert_exporter": "python",
   "pygments_lexer": "ipython3",
   "version": "3.6.5"
  }
 },
 "nbformat": 4,
 "nbformat_minor": 2
}
