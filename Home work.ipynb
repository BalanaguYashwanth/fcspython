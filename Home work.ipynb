{
 "cells": [
  {
   "cell_type": "code",
   "execution_count": 7,
   "metadata": {},
   "outputs": [],
   "source": [
    "def hai():\n",
    "    print('helloWorld')"
   ]
  },
  {
   "cell_type": "code",
   "execution_count": 8,
   "metadata": {},
   "outputs": [
    {
     "name": "stdout",
     "output_type": "stream",
     "text": [
      "helloWorld\n"
     ]
    }
   ],
   "source": [
    "hai()"
   ]
  },
  {
   "cell_type": "code",
   "execution_count": 24,
   "metadata": {},
   "outputs": [
    {
     "name": "stdout",
     "output_type": "stream",
     "text": [
      "name:yash\n"
     ]
    }
   ],
   "source": [
    "a='Hello '+ input('name:');"
   ]
  },
  {
   "cell_type": "code",
   "execution_count": 26,
   "metadata": {},
   "outputs": [
    {
     "name": "stdout",
     "output_type": "stream",
     "text": [
      "Hello yash\n"
     ]
    }
   ],
   "source": [
    "print(a)"
   ]
  },
  {
   "cell_type": "code",
   "execution_count": 33,
   "metadata": {},
   "outputs": [
    {
     "name": "stdout",
     "output_type": "stream",
     "text": [
      "1\n",
      "2\n",
      "cat\n",
      "4\n",
      "dog\n",
      "cat\n",
      "7\n",
      "8\n",
      "cat\n",
      "dog\n",
      "11\n",
      "cat\n",
      "13\n",
      "14\n",
      "dogcat\n",
      "16\n",
      "17\n",
      "cat\n",
      "19\n",
      "dog\n",
      "cat\n",
      "22\n",
      "23\n",
      "cat\n",
      "dog\n",
      "26\n",
      "cat\n",
      "28\n",
      "29\n",
      "dogcat\n",
      "31\n",
      "32\n",
      "cat\n",
      "34\n",
      "dog\n",
      "cat\n",
      "37\n",
      "38\n",
      "cat\n",
      "dog\n",
      "41\n",
      "cat\n",
      "43\n",
      "44\n",
      "dogcat\n",
      "46\n",
      "47\n",
      "cat\n",
      "49\n",
      "dog\n",
      "cat\n",
      "52\n",
      "53\n",
      "cat\n",
      "dog\n",
      "56\n",
      "cat\n",
      "58\n",
      "59\n",
      "dogcat\n",
      "61\n",
      "62\n",
      "cat\n",
      "64\n",
      "dog\n",
      "cat\n",
      "67\n",
      "68\n",
      "cat\n",
      "dog\n",
      "71\n",
      "cat\n",
      "73\n",
      "74\n",
      "dogcat\n",
      "76\n",
      "77\n",
      "cat\n",
      "79\n",
      "dog\n",
      "cat\n",
      "82\n",
      "83\n",
      "cat\n",
      "dog\n",
      "86\n",
      "cat\n",
      "88\n",
      "89\n",
      "dogcat\n",
      "91\n",
      "92\n",
      "cat\n",
      "94\n",
      "dog\n",
      "cat\n",
      "97\n",
      "98\n",
      "cat\n"
     ]
    }
   ],
   "source": [
    "for i in range(1,100):\n",
    "    if i%3==0 and i%5==0:\n",
    "        print(\"dogcat\");\n",
    "    elif i%3==0:\n",
    "        print(\"cat\");\n",
    "    elif i%5==0:\n",
    "        print(\"dog\");\n",
    "    else:\n",
    "        print(i)"
   ]
  },
  {
   "cell_type": "code",
   "execution_count": 49,
   "metadata": {},
   "outputs": [
    {
     "name": "stdout",
     "output_type": "stream",
     "text": [
      "the number is prime\n"
     ]
    }
   ],
   "source": [
    "a=5;\n",
    "count=0;\n",
    "for i in range(1,10):\n",
    "    if a%i==0 and a%1==0 :\n",
    "        count=count+1;\n",
    "        \n",
    "\n",
    "if count==2:\n",
    "    print('the number is prime')\n",
    "else:\n",
    "    print('the number is not a prime')"
   ]
  },
  {
   "cell_type": "code",
   "execution_count": 62,
   "metadata": {},
   "outputs": [
    {
     "name": "stdout",
     "output_type": "stream",
     "text": [
      "yashxyz\n"
     ]
    }
   ],
   "source": [
    "a='yash'\n",
    "print(a+'xyz')"
   ]
  },
  {
   "cell_type": "code",
   "execution_count": 66,
   "metadata": {},
   "outputs": [
    {
     "data": {
      "text/plain": [
       "7.222222222222222"
      ]
     },
     "execution_count": 66,
     "metadata": {},
     "output_type": "execute_result"
    }
   ],
   "source": [
    "a=45;\n",
    "c=(a-32)/1.8;\n",
    "c"
   ]
  },
  {
   "cell_type": "code",
   "execution_count": 108,
   "metadata": {},
   "outputs": [
    {
     "name": "stdout",
     "output_type": "stream",
     "text": [
      "a\n",
      "a\n",
      "s\n"
     ]
    }
   ],
   "source": [
    "b='akash';\n",
    "for x in b:\n",
    "    if x=='a' or x=='e' or x=='i' or x=='0' or x=='s':\n",
    "       z=print(x)"
   ]
  },
  {
   "cell_type": "code",
   "execution_count": 112,
   "metadata": {},
   "outputs": [
    {
     "name": "stdout",
     "output_type": "stream",
     "text": [
      "a\n",
      "e\n",
      "i\n",
      "o\n",
      "u\n",
      "s\n"
     ]
    }
   ],
   "source": [
    "b='akash';\n",
    "for s in ('a','e','i','o','u','s'):\n",
    "    print(b)"
   ]
  },
  {
   "cell_type": "code",
   "execution_count": null,
   "metadata": {},
   "outputs": [],
   "source": []
  }
 ],
 "metadata": {
  "kernelspec": {
   "display_name": "Python 3",
   "language": "python",
   "name": "python3"
  },
  "language_info": {
   "codemirror_mode": {
    "name": "ipython",
    "version": 3
   },
   "file_extension": ".py",
   "mimetype": "text/x-python",
   "name": "python",
   "nbconvert_exporter": "python",
   "pygments_lexer": "ipython3",
   "version": "3.6.5"
  }
 },
 "nbformat": 4,
 "nbformat_minor": 2
}
