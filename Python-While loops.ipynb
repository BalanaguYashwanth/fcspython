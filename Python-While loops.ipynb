{
 "cells": [
  {
   "cell_type": "code",
   "execution_count": 1,
   "metadata": {},
   "outputs": [
    {
     "name": "stdout",
     "output_type": "stream",
     "text": [
      "current value of f is 0\n",
      "current value of f is 1\n",
      "current value of f is 2\n",
      "current value of f is 3\n",
      "current value of f is 4\n"
     ]
    }
   ],
   "source": [
    "x=0;\n",
    "\n",
    "while x<5:\n",
    "    print(f\"current value of f is {x}\")\n",
    "    x=x+1"
   ]
  },
  {
   "cell_type": "code",
   "execution_count": 2,
   "metadata": {},
   "outputs": [
    {
     "name": "stdout",
     "output_type": "stream",
     "text": [
      "current value of f is 0\n",
      "current value of f is 1\n",
      "current value of f is 2\n",
      "current value of f is 3\n",
      "current value of f is 4\n"
     ]
    }
   ],
   "source": [
    "x=0;\n",
    "\n",
    "while x<5:\n",
    "    print(f\"current value of f is {x}\")\n",
    "    x+=1"
   ]
  },
  {
   "cell_type": "code",
   "execution_count": null,
   "metadata": {},
   "outputs": [],
   "source": []
  }
 ],
 "metadata": {
  "kernelspec": {
   "display_name": "Python 3",
   "language": "python",
   "name": "python3"
  },
  "language_info": {
   "codemirror_mode": {
    "name": "ipython",
    "version": 3
   },
   "file_extension": ".py",
   "mimetype": "text/x-python",
   "name": "python",
   "nbconvert_exporter": "python",
   "pygments_lexer": "ipython3",
   "version": "3.6.5"
  }
 },
 "nbformat": 4,
 "nbformat_minor": 2
}
