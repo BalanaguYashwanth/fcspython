{
 "cells": [
  {
   "cell_type": "markdown",
   "metadata": {},
   "source": [
    "# Usage of IF else"
   ]
  },
  {
   "cell_type": "code",
   "execution_count": 3,
   "metadata": {},
   "outputs": [
    {
     "name": "stdout",
     "output_type": "stream",
     "text": [
      "it is equal to 2\n"
     ]
    }
   ],
   "source": [
    "num=2\n",
    "\n",
    "if num<2 :\n",
    "    print('it is less than 2')\n",
    "elif num==2:\n",
    "    print(\"it is equal to 2\")\n",
    "else :\n",
    "    print(\"it is bigger than 2\")\n",
    "    "
   ]
  },
  {
   "cell_type": "code",
   "execution_count": 11,
   "metadata": {},
   "outputs": [
    {
     "name": "stdout",
     "output_type": "stream",
     "text": [
      "hai\n"
     ]
    }
   ],
   "source": [
    "num=2.145\n",
    " \n",
    "if num==2.145:\n",
    "    print('hai')\n",
    "else :\n",
    "    print('bad')"
   ]
  },
  {
   "cell_type": "code",
   "execution_count": 8,
   "metadata": {},
   "outputs": [],
   "source": [
    "\n",
    "lists={1,2,3,4,5,6,7,8,9,10}\n"
   ]
  },
  {
   "cell_type": "code",
   "execution_count": 18,
   "metadata": {},
   "outputs": [
    {
     "name": "stdout",
     "output_type": "stream",
     "text": [
      "1\n",
      "2\n",
      "3\n",
      "4\n",
      "5\n",
      "6\n",
      "7\n",
      "8\n",
      "9\n",
      "10\n"
     ]
    }
   ],
   "source": [
    "for item in lists:\n",
    "    print(item)"
   ]
  },
  {
   "cell_type": "code",
   "execution_count": 14,
   "metadata": {},
   "outputs": [
    {
     "name": "stdout",
     "output_type": "stream",
     "text": [
      "odd\n"
     ]
    }
   ],
   "source": [
    "a=1;\n",
    "if a/2==0 :\n",
    "    print(\"even\")\n",
    "elif a/2!=0 :\n",
    "    print(\"odd\")"
   ]
  },
  {
   "cell_type": "code",
   "execution_count": 21,
   "metadata": {},
   "outputs": [
    {
     "name": "stdout",
     "output_type": "stream",
     "text": [
      "the number 1 is odd\n",
      "2\n",
      "the number 3 is odd\n",
      "4\n",
      "the number 5 is odd\n",
      "6\n",
      "the number 7 is odd\n",
      "8\n",
      "the number 9 is odd\n",
      "10\n"
     ]
    }
   ],
   "source": [
    "for item in lists:\n",
    "    if item%2==0:\n",
    "        print(item)\n",
    "    else:\n",
    "        print(\"the number {} is odd\".format(item))"
   ]
  },
  {
   "cell_type": "code",
   "execution_count": 22,
   "metadata": {},
   "outputs": [
    {
     "name": "stdout",
     "output_type": "stream",
     "text": [
      "the number 1 is odd\n",
      "2\n",
      "the number 3 is odd\n",
      "4\n",
      "the number 5 is odd\n",
      "6\n",
      "the number 7 is odd\n",
      "8\n",
      "the number 9 is odd\n",
      "10\n"
     ]
    }
   ],
   "source": [
    "for item in lists:\n",
    "    if item%2==0:\n",
    "        print(item)\n",
    "    else:\n",
    "        print(f\"the number {item} is odd\")"
   ]
  },
  {
   "cell_type": "code",
   "execution_count": 23,
   "metadata": {},
   "outputs": [
    {
     "name": "stdout",
     "output_type": "stream",
     "text": [
      "2\n",
      "4\n",
      "6\n",
      "8\n"
     ]
    }
   ],
   "source": [
    "for item in range(1,10):\n",
    "    if item%2==0:\n",
    "        print(item);"
   ]
  },
  {
   "cell_type": "code",
   "execution_count": null,
   "metadata": {},
   "outputs": [],
   "source": []
  }
 ],
 "metadata": {
  "kernelspec": {
   "display_name": "Python 3",
   "language": "python",
   "name": "python3"
  },
  "language_info": {
   "codemirror_mode": {
    "name": "ipython",
    "version": 3
   },
   "file_extension": ".py",
   "mimetype": "text/x-python",
   "name": "python",
   "nbconvert_exporter": "python",
   "pygments_lexer": "ipython3",
   "version": "3.6.5"
  }
 },
 "nbformat": 4,
 "nbformat_minor": 2
}
