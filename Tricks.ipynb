{
 "cells": [
  {
   "cell_type": "code",
   "execution_count": 3,
   "metadata": {},
   "outputs": [
    {
     "name": "stdout",
     "output_type": "stream",
     "text": [
      "choose the x or o\n",
      "x\n",
      "player1: x\n",
      "player2: o\n"
     ]
    }
   ],
   "source": [
    "\n",
    "def fun(arg):\n",
    "    if arg=='x':\n",
    "        print('player1: x')\n",
    "        print('player2: o')\n",
    "    else:\n",
    "         print('player1: o')\n",
    "         print('player2: x')\n",
    "        \n",
    "print('choose the x or o')       \n",
    "fun(input())"
   ]
  },
  {
   "cell_type": "code",
   "execution_count": 10,
   "metadata": {},
   "outputs": [],
   "source": [
    "def player_input():\n",
    "    marker =' ';\n",
    "    \n",
    "    while not(marker == 'X' or marker == 'O'):\n",
    "        marker=input('player one : please enter your marker x or O :').upper()\n",
    "        \n",
    "        if marker == 'X':\n",
    "            return ('x','O')\n",
    "        else:\n",
    "            return ('O','X')"
   ]
  },
  {
   "cell_type": "code",
   "execution_count": 11,
   "metadata": {},
   "outputs": [
    {
     "name": "stdout",
     "output_type": "stream",
     "text": [
      "player one : please enter your marker x or O :x\n"
     ]
    },
    {
     "data": {
      "text/plain": [
       "('x', 'O')"
      ]
     },
     "execution_count": 11,
     "metadata": {},
     "output_type": "execute_result"
    }
   ],
   "source": [
    "player_input()"
   ]
  },
  {
   "cell_type": "code",
   "execution_count": null,
   "metadata": {},
   "outputs": [],
   "source": []
  }
 ],
 "metadata": {
  "kernelspec": {
   "display_name": "Python 3",
   "language": "python",
   "name": "python3"
  },
  "language_info": {
   "codemirror_mode": {
    "name": "ipython",
    "version": 3
   },
   "file_extension": ".py",
   "mimetype": "text/x-python",
   "name": "python",
   "nbconvert_exporter": "python",
   "pygments_lexer": "ipython3",
   "version": "3.6.5"
  }
 },
 "nbformat": 4,
 "nbformat_minor": 2
}
