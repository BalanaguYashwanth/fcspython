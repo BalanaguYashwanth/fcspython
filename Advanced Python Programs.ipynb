{
 "cells": [
  {
   "cell_type": "markdown",
   "metadata": {},
   "source": [
    "# Class & Objects"
   ]
  },
  {
   "cell_type": "code",
   "execution_count": 1,
   "metadata": {},
   "outputs": [
    {
     "name": "stdout",
     "output_type": "stream",
     "text": [
      "ram,16gb,rom\n",
      "ram,16gb,rom\n"
     ]
    }
   ],
   "source": [
    "class computer():\n",
    "    \n",
    "    def conf(self):\n",
    "        print('ram,16gb,rom');\n",
    "    \n",
    "com1=computer();\n",
    "\n",
    "computer.conf(com1)\n",
    "\n",
    "com1.conf() #As another way"
   ]
  },
  {
   "cell_type": "code",
   "execution_count": 2,
   "metadata": {},
   "outputs": [
    {
     "name": "stdout",
     "output_type": "stream",
     "text": [
      "Hi i am yours 26gu rom\n"
     ]
    }
   ],
   "source": [
    "class computer():\n",
    "    \n",
    "    def __init__(self,cpu,ram):\n",
    "        self.cpu=cpu;\n",
    "        self.ram=ram;\n",
    "        \n",
    "    def config(self):\n",
    "        print('Hi i am yours',self.cpu,self.ram);\n",
    "    \n",
    "comd=computer('26gu','rom') ;\n",
    "\n",
    "comd.config()\n",
    "        \n",
    "        "
   ]
  },
  {
   "cell_type": "code",
   "execution_count": 3,
   "metadata": {},
   "outputs": [
    {
     "name": "stdout",
     "output_type": "stream",
     "text": [
      "price is  34k 67\n"
     ]
    }
   ],
   "source": [
    "class course():\n",
    "    \n",
    "    def __init__(self,engl,scifi):\n",
    "        self.engl=engl;\n",
    "        self.scifi=scifi;\n",
    "    \n",
    "    def prin(self):\n",
    "        print('price is ',self.engl,self.scifi);\n",
    "        \n",
    "com8=course('34k',67)\n",
    "com8.prin();\n",
    "\n",
    "\n",
    "    "
   ]
  },
  {
   "cell_type": "code",
   "execution_count": 4,
   "metadata": {},
   "outputs": [
    {
     "name": "stdout",
     "output_type": "stream",
     "text": [
      "blue\n",
      "2016\n",
      "5\n"
     ]
    }
   ],
   "source": [
    "class car:\n",
    "    \n",
    "    wheels=4;\n",
    "    \n",
    "    def __init__(self,colour,version):\n",
    "        self.colour=colour;\n",
    "        self.version=version;\n",
    "        \n",
    "car.wheels=5 # To update the wheels \n",
    "\n",
    "message=car('blue',2016);\n",
    "\n",
    "print(message.colour)\n",
    "print(message.version)\n",
    "print(message.wheels)\n",
    "    \n",
    "    "
   ]
  },
  {
   "cell_type": "markdown",
   "metadata": {},
   "source": [
    "# Static & Class methods"
   ]
  },
  {
   "cell_type": "code",
   "execution_count": 5,
   "metadata": {},
   "outputs": [
    {
     "name": "stdout",
     "output_type": "stream",
     "text": [
      "45.0\n",
      "Yhs\n",
      "hi guys\n"
     ]
    }
   ],
   "source": [
    "class sub():\n",
    "    \n",
    "    school='Yhs';\n",
    "    \n",
    "    def __init__(self,m1,m2,m3):\n",
    "        self.m1=m1;\n",
    "        self.m2=m2;\n",
    "        self.m3=m3;\n",
    "    \n",
    "    def total(self):\n",
    "        return (self.m1+self.m2+self.m3)/3;\n",
    "    \n",
    "    @classmethod\n",
    "    def fun(cls):\n",
    "        return cls.school\n",
    "    \n",
    "    @staticmethod\n",
    "    def info():\n",
    "        return ( 'hi guys' );\n",
    "    \n",
    "dot=sub(23,45,67);\n",
    "\n",
    "print(dot.total())\n",
    "print(dot.fun())\n",
    "print(dot.info())\n",
    "        \n",
    "        "
   ]
  },
  {
   "cell_type": "markdown",
   "metadata": {},
   "source": [
    "# Inheritance"
   ]
  },
  {
   "cell_type": "code",
   "execution_count": 6,
   "metadata": {},
   "outputs": [
    {
     "name": "stdout",
     "output_type": "stream",
     "text": [
      "golo4\n",
      "bolo4\n",
      "golo\n",
      "bolo\n",
      "golo2\n",
      "bolo2\n"
     ]
    }
   ],
   "source": [
    "class A():\n",
    "    \n",
    "    def form1(self):\n",
    "        print('golo');\n",
    "        print('bolo');\n",
    "        \n",
    "    def form2(self):\n",
    "        print('golo1');\n",
    "        print('bolo1');\n",
    "        \n",
    "a=A();\n",
    "\n",
    "\n",
    "class B():\n",
    "    \n",
    "    def form3(self):\n",
    "        print('golo2');\n",
    "        print('bolo2');\n",
    "        \n",
    "    def form4(self):\n",
    "        print('golo3');\n",
    "        print('bolo3');\n",
    "        \n",
    "b=B();\n",
    "     \n",
    "class C(A,B):\n",
    "    \n",
    "    def form5(self):\n",
    "        print('golo4');\n",
    "        print('bolo4');\n",
    "        \n",
    "c=C();\n",
    "c.form5()\n",
    "c.form1()\n",
    "c.form3()\n",
    "    \n",
    "    \n",
    "    "
   ]
  },
  {
   "cell_type": "code",
   "execution_count": 7,
   "metadata": {},
   "outputs": [
    {
     "name": "stdout",
     "output_type": "stream",
     "text": [
      "4\n"
     ]
    }
   ],
   "source": [
    "class bol():\n",
    "    \n",
    "    def __init__(self,m1,m2):\n",
    "        self.m1=m1;\n",
    "        self.m2=m2;\n",
    "        \n",
    "    def __add__(self,other):\n",
    "        m1=self.m1+other.m1;\n",
    "        m2=self.m2+other.m2;\n",
    "        m3=bol(m1,m2);\n",
    "        \n",
    "        return m3;\n",
    "\n",
    "    \n",
    "d1=bol(1,2);\n",
    "d2=bol(3,5);\n",
    "\n",
    "m3=d1+d2;\n",
    "\n",
    "print(m3.m1)\n",
    "        \n",
    "        \n",
    "        \n",
    "        \n",
    "        \n",
    "        \n",
    "        "
   ]
  },
  {
   "cell_type": "code",
   "execution_count": 14,
   "metadata": {},
   "outputs": [
    {
     "name": "stdout",
     "output_type": "stream",
     "text": [
      "3\n"
     ]
    }
   ],
   "source": [
    "class subject:\n",
    "    \n",
    "    def __init__(self,m1,m2):\n",
    "        self.m1=m1;\n",
    "        self.m2=m2;\n",
    "    \n",
    "    def __add__  (self,other):\n",
    "        m1=self.m1+other.m1;\n",
    "        m2=self.m2+other.m2;\n",
    "        m3=subject(m1,m2);\n",
    "        return m3;\n",
    "    \n",
    "dol=subject(1,6);\n",
    "dol2=subject(2,3);\n",
    "\n",
    "m3=dol+dol2;\n",
    "\n",
    "print(m3.m1)\n",
    "        \n",
    "        \n",
    "        \n",
    "        "
   ]
  },
  {
   "cell_type": "markdown",
   "metadata": {},
   "source": [
    "# Overriding"
   ]
  },
  {
   "cell_type": "code",
   "execution_count": 16,
   "metadata": {},
   "outputs": [
    {
     "name": "stdout",
     "output_type": "stream",
     "text": [
      "hi how A is there\n"
     ]
    }
   ],
   "source": [
    "class A:\n",
    "    \n",
    "    def sum(self):\n",
    "        print(\"hi how A is there\")\n",
    "        \n",
    "class B(A):\n",
    "    pass;\n",
    "\n",
    "b=B();\n",
    "b.sum()\n",
    "    \n",
    "    \n",
    "    \n",
    "    \n",
    "    "
   ]
  },
  {
   "cell_type": "markdown",
   "metadata": {},
   "source": [
    "# Overloading"
   ]
  },
  {
   "cell_type": "code",
   "execution_count": 32,
   "metadata": {},
   "outputs": [
    {
     "name": "stdout",
     "output_type": "stream",
     "text": [
      "7\n"
     ]
    }
   ],
   "source": [
    "class hi:\n",
    "    \n",
    "    def __init__(self,m1,m2):\n",
    "        self.m1=m1;\n",
    "        self.m2=m2;\n",
    "        \n",
    "    def sum(self,b,c):\n",
    "        m3=b+c;\n",
    "        \n",
    "        return m3;\n",
    "\n",
    "print(d.sum(3,4))\n",
    "\n",
    "\n",
    "\n"
   ]
  },
  {
   "cell_type": "code",
   "execution_count": 33,
   "metadata": {},
   "outputs": [
    {
     "name": "stdout",
     "output_type": "stream",
     "text": [
      "5\n"
     ]
    }
   ],
   "source": [
    "class sub():\n",
    "    \n",
    "    def __init__(self,m1,m2):\n",
    "        self.m1=m1;\n",
    "        self.m2=m2;\n",
    "        \n",
    "    def sum(self,b,c):\n",
    "        m3=b+c;\n",
    "        return m3;\n",
    "        \n",
    "    \n",
    "d=sub(34,34);\n",
    "print(d.sum(2,3))\n",
    "        \n",
    "        "
   ]
  },
  {
   "cell_type": "code",
   "execution_count": 40,
   "metadata": {},
   "outputs": [],
   "source": [
    "def elu_directory(fun):\n",
    "    \n",
    "    def hiol():\n",
    "        print('hi guys')\n",
    "    \n",
    "    fun()\n",
    "    \n",
    "    print('hollo');\n",
    "    \n",
    "    return hiol\n",
    "    \n",
    "    \n",
    "    "
   ]
  },
  {
   "cell_type": "code",
   "execution_count": 41,
   "metadata": {},
   "outputs": [
    {
     "name": "stdout",
     "output_type": "stream",
     "text": [
      "kooli\n",
      "hollo\n"
     ]
    }
   ],
   "source": [
    "@elu_directory\n",
    "def selv():\n",
    "    print('kooli')"
   ]
  },
  {
   "cell_type": "markdown",
   "metadata": {},
   "source": [
    "# Generators"
   ]
  },
  {
   "cell_type": "code",
   "execution_count": 16,
   "metadata": {},
   "outputs": [
    {
     "name": "stdout",
     "output_type": "stream",
     "text": [
      "4\n",
      "9\n",
      "16\n",
      "25\n"
     ]
    }
   ],
   "source": [
    "def func(num):\n",
    "    \n",
    "    for i in num:\n",
    "        yield (i*i);\n",
    "        \n",
    "cou=func([2,3,4,5]);\n",
    "for num in cou:\n",
    "    print(num)"
   ]
  },
  {
   "cell_type": "code",
   "execution_count": 20,
   "metadata": {},
   "outputs": [
    {
     "name": "stdout",
     "output_type": "stream",
     "text": [
      "[4, 9, 16, 25]\n"
     ]
    }
   ],
   "source": [
    "s=[x*x for x in [2,3,4,5]]; # Another way to create the generators\n",
    "print(list(s))"
   ]
  },
  {
   "cell_type": "code",
   "execution_count": null,
   "metadata": {},
   "outputs": [],
   "source": []
  },
  {
   "cell_type": "code",
   "execution_count": null,
   "metadata": {},
   "outputs": [],
   "source": []
  }
 ],
 "metadata": {
  "kernelspec": {
   "display_name": "Python 3",
   "language": "python",
   "name": "python3"
  },
  "language_info": {
   "codemirror_mode": {
    "name": "ipython",
    "version": 3
   },
   "file_extension": ".py",
   "mimetype": "text/x-python",
   "name": "python",
   "nbconvert_exporter": "python",
   "pygments_lexer": "ipython3",
   "version": "3.6.5"
  }
 },
 "nbformat": 4,
 "nbformat_minor": 2
}
