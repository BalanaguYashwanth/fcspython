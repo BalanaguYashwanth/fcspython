{
 "cells": [
  {
   "cell_type": "code",
   "execution_count": 29,
   "metadata": {},
   "outputs": [
    {
     "name": "stdout",
     "output_type": "stream",
     "text": [
      "Requirement already satisfied: pylint in c:\\users\\b.yashwanth\\anaconda3\\lib\\site-packages (1.8.4)\n",
      "Requirement already satisfied: astroid<2.0,>=1.6 in c:\\users\\b.yashwanth\\anaconda3\\lib\\site-packages (from pylint) (1.6.3)\n",
      "Requirement already satisfied: six in c:\\users\\b.yashwanth\\anaconda3\\lib\\site-packages (from pylint) (1.11.0)\n",
      "Requirement already satisfied: isort>=4.2.5 in c:\\users\\b.yashwanth\\anaconda3\\lib\\site-packages (from pylint) (4.3.4)\n",
      "Requirement already satisfied: mccabe in c:\\users\\b.yashwanth\\anaconda3\\lib\\site-packages (from pylint) (0.6.1)\n",
      "Requirement already satisfied: colorama in c:\\users\\b.yashwanth\\anaconda3\\lib\\site-packages (from pylint) (0.3.9)\n",
      "Requirement already satisfied: lazy_object_proxy in c:\\users\\b.yashwanth\\anaconda3\\lib\\site-packages (from astroid<2.0,>=1.6->pylint) (1.3.1)\n",
      "Requirement already satisfied: wrapt in c:\\users\\b.yashwanth\\anaconda3\\lib\\site-packages (from astroid<2.0,>=1.6->pylint) (1.10.11)\n"
     ]
    },
    {
     "name": "stderr",
     "output_type": "stream",
     "text": [
      "distributed 1.21.8 requires msgpack, which is not installed.\n"
     ]
    }
   ],
   "source": [
    "! pip install pylint"
   ]
  },
  {
   "cell_type": "code",
   "execution_count": 30,
   "metadata": {},
   "outputs": [
    {
     "name": "stdout",
     "output_type": "stream",
     "text": [
      "Overwriting sample.py\n"
     ]
    }
   ],
   "source": [
    "%%writefile sample.py\n",
    "s=2;\n",
    "b=3;\n",
    "print(s);\n",
    "print(b);"
   ]
  },
  {
   "cell_type": "code",
   "execution_count": 31,
   "metadata": {},
   "outputs": [
    {
     "name": "stdout",
     "output_type": "stream",
     "text": [
      "************* Module sample\n",
      "C:  1, 0: Exactly one space required around assignment\n",
      "s=2;\n",
      "\n",
      " ^ (bad-whitespace)\n",
      "W:  1, 0: Unnecessary semicolon (unnecessary-semicolon)\n",
      "C:  2, 0: Exactly one space required around assignment\n",
      "b=3;\n",
      "\n",
      " ^ (bad-whitespace)\n",
      "W:  2, 0: Unnecessary semicolon (unnecessary-semicolon)\n",
      "W:  3, 0: Unnecessary semicolon (unnecessary-semicolon)\n",
      "C:  4, 0: Final newline missing (missing-final-newline)\n",
      "C:  1, 0: Missing module docstring (missing-docstring)\n",
      "C:  1, 0: Constant name \"s\" doesn't conform to UPPER_CASE naming style (invalid-name)\n",
      "C:  2, 0: Constant name \"b\" doesn't conform to UPPER_CASE naming style (invalid-name)\n",
      "\n",
      "---------------------------------------------------------------------\n",
      "\n",
      "Your code has been rated at -12.50/10 (previous run: 5.00/10, -17.50)\n",
      "\n",
      "\n",
      "\n"
     ]
    },
    {
     "name": "stderr",
     "output_type": "stream",
     "text": [
      "No config file found, using default configuration\n"
     ]
    }
   ],
   "source": [
    "! pylint sample.py"
   ]
  },
  {
   "cell_type": "code",
   "execution_count": 32,
   "metadata": {},
   "outputs": [
    {
     "name": "stdout",
     "output_type": "stream",
     "text": [
      "Overwriting sample.py\n"
     ]
    }
   ],
   "source": [
    "%%writefile sample.py\n",
    "\n",
    "\"\"\"viny's smll smple file\"\"\"\n",
    "\n",
    "def myfun():\n",
    "    \n",
    "    \"\"\"ksh's smll smple file\"\"\"\n",
    "    \n",
    "    first = 2\n",
    "    second = 3\n",
    "    print(first)\n",
    "    print(second)\n",
    "\n",
    "myfun()"
   ]
  },
  {
   "cell_type": "code",
   "execution_count": 33,
   "metadata": {},
   "outputs": [
    {
     "name": "stdout",
     "output_type": "stream",
     "text": [
      "************* Module sample\n",
      "C:  5, 0: Trailing whitespace (trailing-whitespace)\n",
      "C:  7, 0: Trailing whitespace (trailing-whitespace)\n",
      "C: 13, 0: Final newline missing (missing-final-newline)\n",
      "\n",
      "---------------------------------------------------------------------\n",
      "\n",
      "Your code has been rated at 5.00/10 (previous run: -12.50/10, +17.50)\n",
      "\n",
      "\n",
      "\n"
     ]
    },
    {
     "name": "stderr",
     "output_type": "stream",
     "text": [
      "No config file found, using default configuration\n"
     ]
    }
   ],
   "source": [
    "! pylint sample.py"
   ]
  },
  {
   "cell_type": "markdown",
   "metadata": {},
   "source": [
    "# Unit Test\n"
   ]
  },
  {
   "cell_type": "code",
   "execution_count": 43,
   "metadata": {},
   "outputs": [
    {
     "name": "stdout",
     "output_type": "stream",
     "text": [
      "Overwriting fcs.py\n"
     ]
    }
   ],
   "source": [
    "%%writefile fcs.py\n",
    "def fcs_text(text):\n",
    "    return text.title()"
   ]
  },
  {
   "cell_type": "code",
   "execution_count": 44,
   "metadata": {},
   "outputs": [
    {
     "name": "stdout",
     "output_type": "stream",
     "text": [
      "Overwriting test_fcs.py\n"
     ]
    }
   ],
   "source": [
    "%%writefile test_fcs.py\n",
    "import unittest\n",
    "import fcs\n",
    "\n",
    "class TestFcs( unittest.TestCase):\n",
    "    \n",
    "    def test_one_word(self):\n",
    "        text = 'python'\n",
    "        result = fcs.fcs_text(text)\n",
    "        self.assertEqual(result,'Python')\n",
    "        \n",
    "    def test_multiple_word(self):\n",
    "        text ='akash cibi Yashwanth'\n",
    "        result = fcs.fcs_text(text)\n",
    "        self.assertEqual(result,'Akash Cibi Yashwanth')\n",
    "\n",
    "if __name__=='__main__':\n",
    "    unittest.main()"
   ]
  },
  {
   "cell_type": "code",
   "execution_count": 45,
   "metadata": {},
   "outputs": [
    {
     "name": "stderr",
     "output_type": "stream",
     "text": [
      "..\n",
      "----------------------------------------------------------------------\n",
      "Ran 2 tests in 0.000s\n",
      "\n",
      "OK\n"
     ]
    }
   ],
   "source": [
    "! python test_fcs.py"
   ]
  },
  {
   "cell_type": "code",
   "execution_count": null,
   "metadata": {},
   "outputs": [],
   "source": []
  },
  {
   "cell_type": "code",
   "execution_count": null,
   "metadata": {},
   "outputs": [],
   "source": []
  },
  {
   "cell_type": "code",
   "execution_count": null,
   "metadata": {},
   "outputs": [],
   "source": []
  }
 ],
 "metadata": {
  "kernelspec": {
   "display_name": "Python 3",
   "language": "python",
   "name": "python3"
  },
  "language_info": {
   "codemirror_mode": {
    "name": "ipython",
    "version": 3
   },
   "file_extension": ".py",
   "mimetype": "text/x-python",
   "name": "python",
   "nbconvert_exporter": "python",
   "pygments_lexer": "ipython3",
   "version": "3.6.5"
  }
 },
 "nbformat": 4,
 "nbformat_minor": 2
}
